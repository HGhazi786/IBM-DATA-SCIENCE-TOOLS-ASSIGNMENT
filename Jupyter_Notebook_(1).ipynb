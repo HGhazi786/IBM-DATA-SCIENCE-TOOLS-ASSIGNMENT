{
  "cells": [
    {
      "cell_type": "markdown",
      "metadata": {
        "id": "t78fYhV87QdN"
      },
      "source": [
        "My Jupyter Notebook \n",
        "==================="
      ]
    },
    {
      "cell_type": "markdown",
      "metadata": {
        "id": "6KHLBkBz7QdW"
      },
      "source": [
        "**Hamza Tanweer**"
      ]
    },
    {
      "cell_type": "markdown",
      "metadata": {
        "id": "YMbkQqGs7QdZ"
      },
      "source": [
        "*\"I am interested in data science because I think it is important in almost every phase of life\"*"
      ]
    },
    {
      "cell_type": "markdown",
      "metadata": {
        "id": "gHqHy8-V7Qdb"
      },
      "source": [
        "### The code is going to show \"I love islam \"3 times"
      ]
    },
    {
      "cell_type": "code",
      "execution_count": 2,
      "metadata": {
        "colab": {
          "base_uri": "https://localhost:8080/"
        },
        "id": "4yZABpej7Qdc",
        "outputId": "51705a2a-75e7-4b9a-a383-a2302bb42073"
      },
      "outputs": [
        {
          "output_type": "stream",
          "name": "stdout",
          "text": [
            "I love islam I love islam I love islam \n"
          ]
        }
      ],
      "source": [
        "a=\"I love islam \"\n",
        "b=3\n",
        "print(a*b)"
      ]
    },
    {
      "cell_type": "markdown",
      "metadata": {
        "id": "NBmBfgWA7Qde"
      },
      "source": [
        "- First item\n",
        "- Second item\n",
        "- Third item\n",
        "- Fourth item"
      ]
    },
    {
      "cell_type": "markdown",
      "metadata": {
        "id": "wKYrWlSZ7Qdg"
      },
      "source": [
        "+ 1\n",
        "+ 2\n",
        "+ 3\n",
        "+ 4"
      ]
    },
    {
      "cell_type": "markdown",
      "metadata": {
        "id": "IYPkS8Bj7Qdi"
      },
      "source": [
        "My favorite search engine is [Duck Duck Go](https://duckduckgo.com \"The best search engine for privacy\")."
      ]
    },
    {
      "cell_type": "markdown",
      "metadata": {
        "id": "Wg7jtEwx7Qdj"
      },
      "source": [
        "[![An old rock in the desert](/assets/images/shiprock.jpg \"Shiprock, New Mexico by Beau Rogers\")](https://www.flickr.com/photos/beaurogers/31833779864/in/photolist-Qv3rFw-34mt9F-a9Cmfy-5Ha3Zi-9msKdv-o3hgjr-hWpUte-4WMsJ1-KUQ8N-deshUb-vssBD-6CQci6-8AFCiD-zsJWT-nNfsgB-dPDwZJ-bn9JGn-5HtSXY-6CUhAL-a4UTXB-ugPum-KUPSo-fBLNm-6CUmpy-4WMsc9-8a7D3T-83KJev-6CQ2bK-nNusHJ-a78rQH-nw3NvT-7aq2qf-8wwBso-3nNceh-ugSKP-4mh4kh-bbeeqH-a7biME-q3PtTf-brFpgb-cg38zw-bXMZc-nJPELD-f58Lmo-bXMYG-bz8AAi-bxNtNT-bXMYi-bXMY6-bXMYv)"
      ]
    },
    {
      "cell_type": "markdown",
      "metadata": {
        "id": "qw36H4kj7Qdk"
      },
      "source": [
        "> I love Islam"
      ]
    }
  ],
  "metadata": {
    "kernelspec": {
      "display_name": "Python 3.10.6 64-bit",
      "language": "python",
      "name": "python3"
    },
    "language_info": {
      "codemirror_mode": {
        "name": "ipython",
        "version": 3
      },
      "file_extension": ".py",
      "mimetype": "text/x-python",
      "name": "python",
      "nbconvert_exporter": "python",
      "pygments_lexer": "ipython3",
      "version": "3.10.6"
    },
    "vscode": {
      "interpreter": {
        "hash": "f2ccb58c476f33ba3e3aee7ac07234ef6b8217ef24ad64d2a7d4fed1a57c1cd2"
      }
    },
    "colab": {
      "provenance": [],
      "collapsed_sections": []
    }
  },
  "nbformat": 4,
  "nbformat_minor": 0
}